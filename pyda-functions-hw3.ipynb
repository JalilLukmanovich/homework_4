{
 "cells": [
  {
   "cell_type": "markdown",
   "metadata": {},
   "source": [
    "## Задание 1"
   ]
  },
  {
   "cell_type": "markdown",
   "metadata": {},
   "source": [
    "Дан список вида:"
   ]
  },
  {
   "cell_type": "code",
   "execution_count": null,
   "metadata": {},
   "outputs": [],
   "source": [
    "data = [\n",
    "    [13, 25, 23, 34],\n",
    "    [45, 32, 44, 47],\n",
    "    [12, 33, 23, 95],\n",
    "    [13, 53, 34, 35]\n",
    "]"
   ]
  },
  {
   "cell_type": "code",
   "execution_count": null,
   "metadata": {},
   "outputs": [],
   "source": [
    "def Sum_diagonal(data):\n",
    "    i = 0\n",
    "    sum_av = 0\n",
    "    for n in data:\n",
    "        sum_av += (int(n[i]))\n",
    "        i += 1 \n",
    "    return sum_av\n",
    "Sum_diagon(data)"
   ]
  },
  {
   "cell_type": "markdown",
   "metadata": {},
   "source": [
    "Напишите функцию, которая возвращает сумму элементов на диагонали. Т. е. 13+32+23+35.  \n",
    "Список может быть любой длины, но всегда является \"квадратным\" (количество элементов во вложенных списках равно их количеству)."
   ]
  },
  {
   "cell_type": "markdown",
   "metadata": {},
   "source": [
    "## Задание 2"
   ]
  },
  {
   "cell_type": "markdown",
   "metadata": {},
   "source": [
    "Напишите функцию, возвращающую сумму первых n чисел Фибоначчи (для этого вам может понадобится ознакомиться с рекурсией)."
   ]
  },
  {
   "cell_type": "code",
   "execution_count": 17,
   "metadata": {},
   "outputs": [
    {
     "name": "stdout",
     "output_type": "stream",
     "text": [
      "8\n"
     ]
    }
   ],
   "source": [
    "def fib(n):\n",
    "    if n in (1, 2):\n",
    "        return 1\n",
    "    return fib(n - 1) + fib(n - 2)\n",
    "print(fib(6))"
   ]
  },
  {
   "cell_type": "markdown",
   "metadata": {},
   "source": [
    "## Задание 3\n"
   ]
  },
  {
   "cell_type": "markdown",
   "metadata": {},
   "source": [
    "Напишите функцию, преобразующую произвольный список вида ['2018-01-01', 'yandex', 'cpc', 100] (он может быть любой длины) в словарь {'2018-01-01': {'yandex': {'cpc': 100}}}"
   ]
  },
  {
   "cell_type": "code",
   "execution_count": 18,
   "metadata": {},
   "outputs": [],
   "source": [
    "list_value = ['2018-01-01', 'yandex', 'cpc', 100]"
   ]
  },
  {
   "cell_type": "code",
   "execution_count": 26,
   "metadata": {},
   "outputs": [
    {
     "data": {
      "text/plain": [
       "{'2018-01-01': {'yandex': {'cpc': 100}}}"
      ]
     },
     "execution_count": 26,
     "metadata": {},
     "output_type": "execute_result"
    }
   ],
   "source": [
    "def infinity_nested_dict(list_value):\n",
    "    n = len(list_value)\n",
    "    result = {list_value[-2]:list_value[-1]}\n",
    "    for f in range(n):\n",
    "        f = f + 3\n",
    "        if f > n:\n",
    "            break\n",
    "        else:\n",
    "            result = {list_value[-f]:result}\n",
    "    return result  \n",
    "infinity_nested_dict(list_value)"
   ]
  },
  {
   "cell_type": "markdown",
   "metadata": {},
   "source": [
    "Вы работаете секретарем и вам постоянно приходят различные документы. Вы должны быть очень внимательны, чтобы не потерять ни один документ. Каталог документов хранится в следующем виде:"
   ]
  },
  {
   "cell_type": "code",
   "execution_count": 2,
   "metadata": {},
   "outputs": [],
   "source": [
    "documents = [\n",
    "    {'type': 'passport', 'number': '2207 876234', 'name': 'Василий Гупкин'},\n",
    "    {'type': 'invoice', 'number': '11-2', 'name': 'Геннадий Покемонов'},\n",
    "    {'type': 'insurance', 'number': '10006', 'name': 'Аристарх Павлов'}\n",
    "]"
   ]
  },
  {
   "cell_type": "markdown",
   "metadata": {},
   "source": [
    "Перечень полок, на которых находятся документы хранится в следующем виде:"
   ]
  },
  {
   "cell_type": "code",
   "execution_count": 3,
   "metadata": {},
   "outputs": [],
   "source": [
    "directories = {\n",
    "    '1': ['2207 876234', '11-2', '5455 028765'],\n",
    "    '2': ['10006', '5400 028765', '5455 002299'],\n",
    "    '3': []\n",
    "}"
   ]
  },
  {
   "cell_type": "markdown",
   "metadata": {},
   "source": [
    "Необходимо реализовать пользовательские команды (внимание! это не название функций, которые должны быть выразительными, а команды, которые вводит пользователь, чтобы получить необходимый результат):\n",
    "  \n",
    "- p – people – команда, которая спросит номер документа и выведет имя человека, которому он принадлежит;  \n",
    "- s – shelf – команда, которая спросит номер документа и выведет номер полки, на которой он находится  \n",
    "Правильно обработайте ситуацию, когда пользователь будет вводить несуществующий документ.\n",
    "- l – list – команда, которая выведет список всех документов в формате   \n",
    "**passport \"2207 876234\" \"Василий Гупкин\"**  \n",
    "- as – add shelf – команда, которая спросит номер новой полки и добавит ее в перечень\n",
    "- d – delete – команда, которая спросит номер документа и удалит его из каталога и из перечня полок. Предусмотрите сценарий, когда пользователь вводит несуществующий документ;  \n",
    "- m – move – команда, которая спросит номер документа и целевую полку и переместит его с текущей полки на целевую. Корректно обработайте кейсы, когда пользователь пытается переместить несуществующий документ или переместить документ на несуществующую полку;  \n",
    "- a – add – команда, которая добавит новый документ в каталог и в перечень полок, спросив его номер, тип, имя владельца и номер полки, на котором он будет храниться."
   ]
  },
  {
   "cell_type": "code",
   "execution_count": 8,
   "metadata": {},
   "outputs": [
    {
     "name": "stdout",
     "output_type": "stream",
     "text": [
      "введите номер документа: 10006\n",
      "Аристарх Павлов\n"
     ]
    }
   ],
   "source": [
    "num_doc_peop = input('введите номер документа: ', )\n",
    "def people(num_doc_peop):\n",
    "    for el in documents:\n",
    "        if el['number'] == num_doc_peop:\n",
    "            result = el['name']\n",
    "            return result\n",
    "    return 'документ отсутствует'\n",
    "print(people(num_doc_peop))"
   ]
  },
  {
   "cell_type": "code",
   "execution_count": 20,
   "metadata": {},
   "outputs": [
    {
     "name": "stdout",
     "output_type": "stream",
     "text": [
      "введите номер доккумента: 10006\n",
      "2\n"
     ]
    }
   ],
   "source": [
    "num_doc_shelf = input('введите номер доккумента: ', )\n",
    "def shelf(num_doc_shelf): \n",
    "    for key, value in directories.items():\n",
    "        if num_doc_shelf in value:\n",
    "            result = key\n",
    "            return result\n",
    "    return 'документ отсутствует'\n",
    "print(shelf(num_doc_shelf))"
   ]
  },
  {
   "cell_type": "code",
   "execution_count": 26,
   "metadata": {},
   "outputs": [
    {
     "name": "stdout",
     "output_type": "stream",
     "text": [
      "** passport \"2207 876234\" \"Василий Гупкин\" **\n",
      "** invoice \"11-2\" \"Геннадий Покемонов\" **\n",
      "** insurance \"10006\" \"Аристарх Павлов\" **\n"
     ]
    }
   ],
   "source": [
    "def l():\n",
    "    for el in documents:\n",
    "    #    print('**', '\"\"'.join(map(str, list(el.values()))), '\"**')\n",
    "        print(f'** {list(el.values())[0]} \"{list(el.values())[1]}\" \"{list(el.values())[2]}\" **')\n",
    "    return\n",
    "l() "
   ]
  },
  {
   "cell_type": "code",
   "execution_count": 100,
   "metadata": {},
   "outputs": [
    {
     "name": "stdout",
     "output_type": "stream",
     "text": [
      "Введите номер новой полки 11\n",
      "{'1': ['2207 876234', '11-2', '5455 028765'], '2': ['10006', '5400 028765', '5455 002299'], '3': [], '11': []}\n"
     ]
    }
   ],
   "source": [
    "num_new_direct = input(\"Введите номер новой полки \", )\n",
    "def add_shelf(num_new_direct):\n",
    "    if num_new_direct not in list(directories.keys()):\n",
    "        directories[num_new_direct]=[]\n",
    "#        result = directories\n",
    "        return directories\n",
    "    return 'полка уже существует'\n",
    "print(add_shelf(num_new_direct))"
   ]
  },
  {
   "cell_type": "code",
   "execution_count": 6,
   "metadata": {},
   "outputs": [
    {
     "name": "stdout",
     "output_type": "stream",
     "text": [
      "Введите номер документа для удаления10006\n",
      "({'1': ['2207 876234', '11-2', '5455 028765'], '2': ['5400 028765', '5455 002299'], '3': [], '123': []}, [{'type': 'passport', 'number': '2207 876234', 'name': 'Василий Гупкин'}, {'type': 'invoice', 'number': '11-2', 'name': 'Геннадий Покемонов'}])\n"
     ]
    }
   ],
   "source": [
    "def delete():\n",
    "    delete_doc_num = input(\"Введите номер документа для удаления\", )\n",
    "    def if_doc_exist(delete_doc_num):\n",
    "        new_list = []\n",
    "        for element in documents:\n",
    "            new_list.append(element['number'])\n",
    "        if delete_doc_num in new_list:\n",
    "            new_list_direct = []\n",
    "            for val in directories.values():\n",
    "                for el in val:\n",
    "                    new_list_direct.append(el)\n",
    "            if delete_doc_num in new_list_direct:\n",
    "                return delete_doc_num\n",
    "        return 'документ не существует'            \n",
    "    delete_doc1 = if_doc_exist(delete_doc_num)\n",
    "    if delete_doc1 != 'документ не существует':\n",
    "        for el_doc in documents:\n",
    "            if 'number' in el_doc.keys(): \n",
    "                if el_doc['number'] == delete_doc1:\n",
    "                    documents.remove(el_doc)\n",
    "        for key, value in directories.items():    \n",
    "            if delete_doc1 in value:\n",
    "                directories[key].remove(delete_doc1)\n",
    "        return directories, documents\n",
    "    return 'документ не существует'          \n",
    "print(delete())"
   ]
  },
  {
   "cell_type": "code",
   "execution_count": 4,
   "metadata": {},
   "outputs": [
    {
     "name": "stdout",
     "output_type": "stream",
     "text": [
      "номер перемещаемого документа 10006\n",
      "номер целевой полки 1\n",
      "{'1': ['2207 876234', '11-2', '5455 028765', '10006'], '2': ['5400 028765', '5455 002299'], '3': []}\n"
     ]
    }
   ],
   "source": [
    "move_doc_num = input('номер перемещаемого документа ', )\n",
    "target_shelf = input('номер целевой полки ', )\n",
    "def move(move_doc_num, target_shelf):\n",
    "    def if_doc_shelf_exist(target_shelf, move_doc_num):\n",
    "        if target_shelf in directories:\n",
    "            new_list_direct = []\n",
    "            for val in directories.values():\n",
    "                for el in val:\n",
    "                    new_list_direct.append(el)\n",
    "            if move_doc_num in new_list_direct:\n",
    "                return move_doc_num\n",
    "        return 'полки или документ не существует'          \n",
    "    move1 = if_doc_shelf_exist(target_shelf, move_doc_num)\n",
    "    if move1 != 'полки или документ не существует':\n",
    "        for key, value in directories.items():    \n",
    "            if move1 in value:\n",
    "                directories[key].remove(move1)\n",
    "        directories[target_shelf].append(move1)\n",
    "        return directories\n",
    "    return 'полки или документ не существует'\n",
    "print(move(move_doc_num, target_shelf)) "
   ]
  },
  {
   "cell_type": "code",
   "execution_count": 7,
   "metadata": {},
   "outputs": [
    {
     "name": "stdout",
     "output_type": "stream",
     "text": [
      "номер нового документа 123\n",
      "Введите номер полки 2\n",
      "введите тип документапаспорт\n",
      "введите имя человекаПавлов\n",
      "({'1': ['2207 876234', '11-2', '5455 028765'], '2': ['5400 028765', '5455 002299', '10006', '123'], '3': []}, [{'type': 'passport', 'number': '2207 876234', 'name': 'Василий Гупкин'}, {'type': 'invoice', 'number': '11-2', 'name': 'Геннадий Покемонов'}, {'type': 'insurance', 'number': '10006', 'name': 'Аристарх Павлов'}, {'type': 'паспорт', 'number': '123', 'name': 'Павлов'}])\n"
     ]
    }
   ],
   "source": [
    "def add():\n",
    "    new_doc_num = input('номер нового документа ', )\n",
    "    def if_doc_exist(new_doc_num): \n",
    "        new_list_direct = []\n",
    "        for val in directories.values():\n",
    "            for el in val:\n",
    "                new_list_direct.append(el)\n",
    "        if new_doc_num not in new_list_direct:\n",
    "            return new_doc_num\n",
    "        return 'документ уже существует'\n",
    "    new_doc_num1 = if_doc_exist(new_doc_num)\n",
    "    if new_doc_num1!= 'документ уже существует':\n",
    "        num_direct = input(\"Введите номер полки \", )\n",
    "        if num_direct in directories:    \n",
    "            directories[num_direct].append(new_doc_num)\n",
    "            type_ = input('введите тип документа',)\n",
    "            name_ = input('введите имя человека',)\n",
    "            d = {}\n",
    "            d['type'] = type_\n",
    "            d['number'] = new_doc_num\n",
    "            d['name'] = name_\n",
    "            documents.append(d)\n",
    "            return directories, documents\n",
    "        return 'полки не существут, создайте новую'\n",
    "    return 'документ уже существует'\n",
    "print(add())"
   ]
  },
  {
   "cell_type": "code",
   "execution_count": 8,
   "metadata": {},
   "outputs": [],
   "source": [
    "def main():    \n",
    "    comand = input('введите комманду: ', )\n",
    "    if comand == 'p':\n",
    "        num_doc_peop = input('введите номер документа: ', )\n",
    "        print(people(num_doc_peop))\n",
    "    elif comand == 's':\n",
    "        num_doc_shelf = input('введите номер доккумента: ', )\n",
    "        print(shelf(num_doc_shelf))\n",
    "    elif comand == 'l':\n",
    "        l()\n",
    "    elif comand == 'as_':\n",
    "        num_new_direct = input(\"Введите номер новой полки \", )\n",
    "        print(add_shelf(num_new_direct))\n",
    "    elif comand == 'd':\n",
    "        print(delete())\n",
    "    elif comand == 'm':\n",
    "        move_doc_num = input('номер перемещаемого документа ', )\n",
    "        target_shelf = input('номер целевой полки ', )\n",
    "        print(move(move_doc_num, target_shelf)) \n",
    "    elif comand == 'a':\n",
    "        print(add())"
   ]
  },
  {
   "cell_type": "code",
   "execution_count": 9,
   "metadata": {},
   "outputs": [
    {
     "name": "stdout",
     "output_type": "stream",
     "text": [
      "введите комманду: a\n",
      "номер нового документа 42\n",
      "Введите номер полки 3\n",
      "введите тип документаинвойс\n",
      "введите имя человекаСандро\n",
      "({'1': ['2207 876234', '11-2', '5455 028765'], '2': ['5400 028765', '5455 002299', '10006', '123'], '3': ['42']}, [{'type': 'passport', 'number': '2207 876234', 'name': 'Василий Гупкин'}, {'type': 'invoice', 'number': '11-2', 'name': 'Геннадий Покемонов'}, {'type': 'insurance', 'number': '10006', 'name': 'Аристарх Павлов'}, {'type': 'паспорт', 'number': '123', 'name': 'Павлов'}, {'type': 'инвойс', 'number': '42', 'name': 'Сандро'}])\n"
     ]
    }
   ],
   "source": [
    "main()"
   ]
  },
  {
   "cell_type": "code",
   "execution_count": null,
   "metadata": {},
   "outputs": [],
   "source": []
  }
 ],
 "metadata": {
  "kernelspec": {
   "display_name": "Python 3",
   "language": "python",
   "name": "python3"
  },
  "language_info": {
   "codemirror_mode": {
    "name": "ipython",
    "version": 3
   },
   "file_extension": ".py",
   "mimetype": "text/x-python",
   "name": "python",
   "nbconvert_exporter": "python",
   "pygments_lexer": "ipython3",
   "version": "3.7.4"
  }
 },
 "nbformat": 4,
 "nbformat_minor": 2
}
